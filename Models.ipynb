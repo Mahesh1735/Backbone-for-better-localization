{
  "nbformat": 4,
  "nbformat_minor": 0,
  "metadata": {
    "colab": {
      "name": "Models.ipynb",
      "provenance": [],
      "collapsed_sections": []
    },
    "kernelspec": {
      "name": "python3",
      "display_name": "Python 3"
    }
  },
  "cells": [
    {
      "cell_type": "code",
      "metadata": {
        "id": "m7cZB4PIIVN5",
        "colab_type": "code",
        "colab": {
          "base_uri": "https://localhost:8080/",
          "height": 34
        },
        "outputId": "2c52d0e7-008b-4a42-d8a7-edb381053e31"
      },
      "source": [
        "from google.colab import drive\n",
        "drive.mount('/content/drive')"
      ],
      "execution_count": 1,
      "outputs": [
        {
          "output_type": "stream",
          "text": [
            "Mounted at /content/drive\n"
          ],
          "name": "stdout"
        }
      ]
    },
    {
      "cell_type": "code",
      "metadata": {
        "id": "CZmseDY_U-92",
        "colab_type": "code",
        "colab": {
          "base_uri": "https://localhost:8080/",
          "height": 34
        },
        "outputId": "b6b5cbf9-dc53-48f7-c0a0-6127a0d08181"
      },
      "source": [
        " cd drive/My\\ Drive/"
      ],
      "execution_count": 2,
      "outputs": [
        {
          "output_type": "stream",
          "text": [
            "/content/drive/My Drive\n"
          ],
          "name": "stdout"
        }
      ]
    },
    {
      "cell_type": "code",
      "metadata": {
        "id": "d2LrfjjcgNT0",
        "colab_type": "code",
        "colab": {
          "base_uri": "https://localhost:8080/",
          "height": 187
        },
        "outputId": "f80953b7-9400-4fa3-ee63-75ebd2dc13a6"
      },
      "source": [
        "ls"
      ],
      "execution_count": 3,
      "outputs": [
        {
          "output_type": "stream",
          "text": [
            "\u001b[0m\u001b[01;34m'Colab Notebooks'\u001b[0m/   model11.h5   modelff70.h5           modelres70.h5\n",
            " \u001b[01;34mlogs\u001b[0m/               model12.h5   model_plot_2ch.png     modelres80.h5\n",
            " \u001b[01;34mlogs2\u001b[0m/              model21.h5   model_plot_2temp.png   modelres81.h5\n",
            " \u001b[01;34mlogs3\u001b[0m/              model22.h5   model_plot_3.png       modelres82.h5\n",
            " \u001b[01;34mlogs4\u001b[0m/              model30.h5   model_plot_4.png       modelsimpres70.h5\n",
            " \u001b[01;34mlogs5\u001b[0m/              model31.h5   model_plot_5.png       \u001b[01;34mobjAPlib\u001b[0m/\n",
            " \u001b[01;34mlogs6\u001b[0m/              model33.h5   model_plot_6.png       strd.png\n",
            " \u001b[01;34mlogs7\u001b[0m/              model40.h5   model_plot_7.png\n",
            " \u001b[01;34mlogs8\u001b[0m/              model50.h5   model_plot_8.png\n",
            " \u001b[01;34mlogssimp5\u001b[0m/          model60.h5   model_plot.png\n"
          ],
          "name": "stdout"
        }
      ]
    },
    {
      "cell_type": "code",
      "metadata": {
        "id": "ZGUpHI1uOswd",
        "colab_type": "code",
        "colab": {}
      },
      "source": [
        "\n",
        "\n",
        "import numpy as np\n",
        "import pandas as pd\n",
        "import cv2\n",
        "import matplotlib.pyplot as plt\n",
        "from matplotlib.patches import Rectangle\n",
        "%matplotlib inline\n",
        "from keras.datasets import mnist\n",
        "from keras.models import *\n",
        "from keras.layers import *\n",
        "from keras.optimizers import *\n",
        "from keras.losses import *\n",
        "from keras.callbacks import ModelCheckpoint, LearningRateScheduler\n",
        "from keras import backend as K\n",
        "from keras.layers.normalization import BatchNormalization\n",
        "from keras.utils import np_utils\n",
        "from keras.preprocessing.image import ImageDataGenerator\n",
        "from objAPlib.utils import *\n",
        "from objAPlib.BoundingBox import *\n",
        "from objAPlib.BoundingBoxes import *\n",
        "from objAPlib.Evaluator import *\n",
        "from keras.utils.vis_utils import plot_model\n",
        "from keras.callbacks import TensorBoard\n",
        "import datetime\n",
        "from keras.callbacks import History \n",
        "%load_ext tensorboard\n",
        "\n"
      ],
      "execution_count": 4,
      "outputs": []
    },
    {
      "cell_type": "markdown",
      "metadata": {
        "id": "M8jhmlG7qCKW",
        "colab_type": "text"
      },
      "source": [
        "## Loading Dataset"
      ]
    },
    {
      "cell_type": "code",
      "metadata": {
        "id": "UsJe-hkZTXE-",
        "colab_type": "code",
        "colab": {
          "base_uri": "https://localhost:8080/",
          "height": 119
        },
        "outputId": "bfefdb4f-1751-4e7b-b7c5-c39dd1557ebe"
      },
      "source": [
        "(X_train, Y_train), (X_test, Y_test) = mnist.load_data()\n",
        "print(\"X_train original shape\", X_train.shape)\n",
        "print(\"y_train original shape\", Y_train.shape)\n",
        "print(\"X_test original shape\", X_test.shape)\n",
        "print(\"y_test original shape\", Y_test.shape)"
      ],
      "execution_count": 5,
      "outputs": [
        {
          "output_type": "stream",
          "text": [
            "Downloading data from https://storage.googleapis.com/tensorflow/tf-keras-datasets/mnist.npz\n",
            "11493376/11490434 [==============================] - 0s 0us/step\n",
            "X_train original shape (60000, 28, 28)\n",
            "y_train original shape (60000,)\n",
            "X_test original shape (10000, 28, 28)\n",
            "y_test original shape (10000,)\n"
          ],
          "name": "stdout"
        }
      ]
    },
    {
      "cell_type": "code",
      "metadata": {
        "id": "x_b681NMTgIB",
        "colab_type": "code",
        "colab": {
          "base_uri": "https://localhost:8080/",
          "height": 298
        },
        "outputId": "5e2cb922-feed-4b39-e359-916250f384f8"
      },
      "source": [
        "plt.imshow(X_train[0], cmap='gray')\n",
        "plt.title('Class '+ str(Y_train[0]))"
      ],
      "execution_count": 6,
      "outputs": [
        {
          "output_type": "execute_result",
          "data": {
            "text/plain": [
              "Text(0.5, 1.0, 'Class 5')"
            ]
          },
          "metadata": {
            "tags": []
          },
          "execution_count": 6
        },
        {
          "output_type": "display_data",
          "data": {
            "image/png": "[encoded data removed]",
            "text/plain": [
              "<Figure size 432x288 with 1 Axes>"
            ]
          },
          "metadata": {
            "tags": [],
            "needs_background": "light"
          }
        }
      ]
    },
    {
      "cell_type": "markdown",
      "metadata": {
        "id": "UhyNADTtqUHx",
        "colab_type": "text"
      },
      "source": [
        "## Coustom function"
      ]
    },
    {
      "cell_type": "code",
      "metadata": {
        "id": "gKmJQFNpFko8",
        "colab_type": "code",
        "colab": {}
      },
      "source": [
        "def custom_mse(y_true, y_pred):\n",
        " \n",
        "    loss = Multiply()([K.square(y_pred - y_true),K.expand_dims(y_true[:,:,:,10],axis=-1)])  # (batch_size, 2)\n",
        "    loss = K.sum(loss)        # (batch_size,)\n",
        "    \n",
        "    return loss\n",
        "def cus_maxpoolf(x):\n",
        "\n",
        "  x = K.expand_dims(x)\n",
        "  x = MaxPooling3D(pool_size=(1,1,4))(x)\n",
        "  x = K.squeeze(x, axis=-1)\n",
        "\n",
        "  return x\n",
        "def cuss_maxpoolf(x):\n",
        "\n",
        "  x = K.expand_dims(x)\n",
        "  x = MaxPooling3D(pool_size=(1,1,2))(x)\n",
        "  x = K.squeeze(x, axis=-1)\n",
        "\n",
        "  return x\n",
        "def lintanh(x):\n",
        "    \"\"\" coustom function made by Mahesh \"\"\"\n",
        "\n",
        "    return K.tanh(x) + x"
      ],
      "execution_count": 7,
      "outputs": []
    },
    {
      "cell_type": "markdown",
      "metadata": {
        "id": "byF8JvUQqqvU",
        "colab_type": "text"
      },
      "source": [
        "## Different Networks"
      ]
    },
    {
      "cell_type": "markdown",
      "metadata": {
        "id": "BWw7q6Adrc1M",
        "colab_type": "text"
      },
      "source": [
        "Standard Network"
      ]
    },
    {
      "cell_type": "code",
      "metadata": {
        "id": "78RsCZ7Yq60m",
        "colab_type": "code",
        "colab": {
          "base_uri": "https://localhost:8080/",
          "height": 697
        },
        "outputId": "1d88895f-aa73-4e97-b4be-a43f0060a148"
      },
      "source": [
        "def net(input_size = (28*4,28*4,1)):\n",
        "    inputs = Input(input_size)\n",
        "    conv1 = Conv2D(32, (3,3), activation = 'relu', padding = 'same', kernel_initializer = 'he_normal')(inputs)\n",
        "    conv1 = Conv2D(32, (3,3), activation = 'relu', padding = 'same', kernel_initializer = 'he_normal')(conv1)\n",
        "    conv1 = Conv2D(32, (3,3), activation = 'relu', padding = 'same', kernel_initializer = 'he_normal')(conv1)\n",
        "    pool1 = MaxPooling2D(pool_size=(2, 2))(conv1)\n",
        "    conv2 = Conv2D(64, (3,3), activation = 'relu', padding = 'same', kernel_initializer = 'he_normal')(pool1)\n",
        "    conv2 = Conv2D(64, (3,3), activation = 'relu', padding = 'same', kernel_initializer = 'he_normal')(conv2)\n",
        "    conv2 = Conv2D(64, (3,3), activation = 'relu', padding = 'same', kernel_initializer = 'he_normal')(conv2)\n",
        "    pool2 = MaxPooling2D(pool_size=(2, 2))(conv2)\n",
        "    conv3 = Conv2D(64, (3,3), activation = 'relu', padding = 'same', kernel_initializer = 'he_normal')(pool2)\n",
        "    conv3 = Conv2D(64, (3,3), activation = 'relu', padding = 'same', kernel_initializer = 'he_normal')(conv3)\n",
        "    conv3 = Conv2D(64, (3,3), activation = 'relu', padding = 'same', kernel_initializer = 'he_normal')(conv3)\n",
        "    pool3 = MaxPooling2D(pool_size=(2, 2))(conv3)\n",
        "    conv3 = Conv2D(128, (3,3), activation = 'relu', padding = 'same', kernel_initializer = 'he_normal')(pool3)\n",
        "    conv3 = Conv2D(128, (3,3), activation = 'relu', padding = 'same', kernel_initializer = 'he_normal')(conv3)\n",
        "    conv3 = Conv2D(15, (3,3), activation = 'sigmoid', padding = 'same', kernel_initializer = 'he_normal')(conv3)\n",
        "\n",
        "    model = Model(inputs = inputs, outputs = conv3)\n",
        "\n",
        "    model.compile(optimizer = Adam(lr = 1e-4), loss = custom_mse, metrics = ['mean_absolute_error'])\n",
        "    \n",
        "    model.summary()\n",
        "\n",
        "    return model\n",
        "\n",
        "model = net()"
      ],
      "execution_count": 9,
      "outputs": [
        {
          "output_type": "stream",
          "text": [
            "Model: \"functional_1\"\n",
            "_________________________________________________________________\n",
            "Layer (type)                 Output Shape              Param #   \n",
            "=================================================================\n",
            "input_2 (InputLayer)         [(None, 112, 112, 1)]     0         \n",
            "_________________________________________________________________\n",
            "conv2d_12 (Conv2D)           (None, 112, 112, 32)      320       \n",
            "_________________________________________________________________\n",
            "conv2d_13 (Conv2D)           (None, 112, 112, 32)      9248      \n",
            "_________________________________________________________________\n",
            "conv2d_14 (Conv2D)           (None, 112, 112, 32)      9248      \n",
            "_________________________________________________________________\n",
            "max_pooling2d_3 (MaxPooling2 (None, 56, 56, 32)        0         \n",
            "_________________________________________________________________\n",
            "conv2d_15 (Conv2D)           (None, 56, 56, 64)        18496     \n",
            "_________________________________________________________________\n",
            "conv2d_16 (Conv2D)           (None, 56, 56, 64)        36928     \n",
            "_________________________________________________________________\n",
            "conv2d_17 (Conv2D)           (None, 56, 56, 64)        36928     \n",
            "_________________________________________________________________\n",
            "max_pooling2d_4 (MaxPooling2 (None, 28, 28, 64)        0         \n",
            "_________________________________________________________________\n",
            "conv2d_18 (Conv2D)           (None, 28, 28, 64)        36928     \n",
            "_________________________________________________________________\n",
            "conv2d_19 (Conv2D)           (None, 28, 28, 64)        36928     \n",
            "_________________________________________________________________\n",
            "conv2d_20 (Conv2D)           (None, 28, 28, 64)        36928     \n",
            "_________________________________________________________________\n",
            "max_pooling2d_5 (MaxPooling2 (None, 14, 14, 64)        0         \n",
            "_________________________________________________________________\n",
            "conv2d_21 (Conv2D)           (None, 14, 14, 128)       73856     \n",
            "_________________________________________________________________\n",
            "conv2d_22 (Conv2D)           (None, 14, 14, 128)       147584    \n",
            "_________________________________________________________________\n",
            "conv2d_23 (Conv2D)           (None, 14, 14, 15)        17295     \n",
            "=================================================================\n",
            "Total params: 460,687\n",
            "Trainable params: 460,687\n",
            "Non-trainable params: 0\n",
            "_________________________________________________________________\n"
          ],
          "name": "stdout"
        }
      ]
    },
    {
      "cell_type": "markdown",
      "metadata": {
        "id": "tkINxlILrsXZ",
        "colab_type": "text"
      },
      "source": [
        "My Network"
      ]
    },
    {
      "cell_type": "code",
      "metadata": {
        "id": "dn6-31Mwl8ft",
        "colab_type": "code",
        "colab": {
          "base_uri": "https://localhost:8080/",
          "height": 1000
        },
        "outputId": "2a31f60c-898b-4f98-ba3a-5e7a094c73ad"
      },
      "source": [
        "def net(input_size = (28*4,28*4,1)):\n",
        "    inputs = Input(input_size)\n",
        "    conv1 = Conv2D(32, (3,3), activation = 'relu', padding = 'same', kernel_initializer = 'he_normal')(inputs)\n",
        "    conv1 = Conv2D(32, (3,3), activation = 'relu', padding = 'same', kernel_initializer = 'he_normal')(conv1)\n",
        "    conv1 = Conv2D(32, (3,3), activation = 'relu', padding = 'same', kernel_initializer = 'he_normal')(conv1)\n",
        "    pool1 = MaxPooling2D(pool_size=(2, 2))(conv1)\n",
        "    conv2 = Conv2D(64, (3,3), activation = 'relu', padding = 'same', kernel_initializer = 'he_normal')(pool1)\n",
        "    conv2 = Conv2D(64, (3,3), activation = 'relu', padding = 'same', kernel_initializer = 'he_normal')(conv2)\n",
        "    conv2 = Conv2D(64, (3,3), activation = 'relu', padding = 'same', kernel_initializer = 'he_normal')(conv2)\n",
        "    pool2 = MaxPooling2D(pool_size=(2, 2))(conv2)\n",
        "    #X=Convolution2D(128, (1, 1), activation='relu', padding = 'same', kernel_initializer = 'he_normal')(X)       use this bro\n",
        "    pconv3 = Conv2D(64, (3,3), activation = 'relu', padding = 'same', kernel_initializer = 'he_normal')(pool2)\n",
        "    pconv3x = Conv2D(32, (9,1), activation = 'relu', padding = 'same', kernel_initializer = 'he_normal')(pool2)\n",
        "    pconv3y = Conv2D(32, (1,9), activation = 'relu', padding = 'same', kernel_initializer = 'he_normal')(pool2)\n",
        "    conv3 = Concatenate()([Conv2D(32, (3,3), activation = 'relu', padding = 'same', kernel_initializer = 'he_normal')(pconv3),Conv2D(16, (1,1), activation = 'relu', padding = 'same')(pconv3x),Conv2D(16, (1,1), activation = 'relu', padding = 'same')(pconv3y)])\n",
        "    conv3x = Concatenate()([Conv2D(16, (9,1), activation = lintanh, padding = 'same', kernel_initializer = 'he_normal')(pconv3x),Conv2D(16, (1,1), activation = 'relu', padding = 'same', kernel_initializer = 'he_normal')(pconv3)])\n",
        "    conv3y = Concatenate()([Conv2D(16, (1,9), activation = lintanh, padding = 'same', kernel_initializer = 'he_normal')(pconv3y),Conv2D(16, (1,1), activation = 'relu', padding = 'same', kernel_initializer = 'he_normal')(pconv3)])\n",
        "    pconv3 = conv3\n",
        "    pconv3x = Add()([conv3x,pconv3x])\n",
        "    pconv3y = Add()([conv3y,pconv3y])\n",
        "    conv3 = Concatenate()([Conv2D(32, (3,3), activation = 'relu', padding = 'same', kernel_initializer = 'he_normal')(pconv3),Conv2D(16, (1,1), activation = 'relu', padding = 'same')(pconv3x),Conv2D(16, (1,1), activation = 'relu', padding = 'same')(pconv3y)])\n",
        "    conv3x = Concatenate()([Conv2D(16, (9,1), activation = lintanh, padding = 'same', kernel_initializer = 'he_normal')(pconv3x),Conv2D(16, (1,1), activation = 'relu', padding = 'same', kernel_initializer = 'he_normal')(pconv3)])\n",
        "    conv3y = Concatenate()([Conv2D(16, (1,9), activation = lintanh, padding = 'same', kernel_initializer = 'he_normal')(pconv3y),Conv2D(16, (1,1), activation = 'relu', padding = 'same', kernel_initializer = 'he_normal')(pconv3)])\n",
        "    conv3 = conv3\n",
        "    conv3x = Add()([conv3x,pconv3x])\n",
        "    conv3y = Add()([conv3y,pconv3y])\n",
        "    pconv3 = MaxPooling2D(pool_size=(2, 2))(conv3)\n",
        "    pconv3x = Conv2D(64,(2,2), strides=(2,2) ,activation = 'relu', padding = 'valid')(conv3x)\n",
        "    pconv3y = Conv2D(64,(2,2), strides=(2,2) ,activation = 'relu', padding = 'valid')(conv3y)\n",
        "    conv3 = Concatenate()([Conv2D(64, (3,3), activation = 'relu', padding = 'same', kernel_initializer = 'he_normal')(pconv3),Conv2D(32, (1,1), activation = 'relu', padding = 'same')(pconv3x),Conv2D(32, (1,1), activation = 'relu', padding = 'same')(pconv3y)])\n",
        "    conv3x = Concatenate()([Conv2D(32, (9,1), activation = lintanh, padding = 'same', kernel_initializer = 'he_normal')(pconv3x),Lambda(lambda x: cuss_maxpoolf(x))(pconv3)])\n",
        "    conv3y = Concatenate()([Conv2D(32, (1,9), activation = lintanh, padding = 'same', kernel_initializer = 'he_normal')(pconv3y),Lambda(lambda x: cuss_maxpoolf(x))(pconv3)])\n",
        "    pconv3 = conv3\n",
        "    pconv3x = Add()([conv3x,pconv3x])\n",
        "    pconv3y = Add()([conv3y,pconv3y])\n",
        "    conv3 = Concatenate()([Conv2D(64, (3,3), activation = 'relu', padding = 'same', kernel_initializer = 'he_normal')(pconv3),Conv2D(32, (1,1), activation = 'relu', padding = 'same')(pconv3x),Conv2D(32, (1,1), activation = 'relu', padding = 'same')(pconv3y)])\n",
        "    conv3x = Concatenate()([Conv2D(32, (9,1), activation = lintanh, padding = 'same', kernel_initializer = 'he_normal')(pconv3x),Lambda(lambda x: cus_maxpoolf(x))(pconv3)])\n",
        "    conv3y = Concatenate()([Conv2D(32, (1,9), activation = lintanh, padding = 'same', kernel_initializer = 'he_normal')(pconv3y),Lambda(lambda x: cus_maxpoolf(x))(pconv3)])\n",
        "    pconv3 = conv3\n",
        "    pconv3x = Add()([conv3x,pconv3x])\n",
        "    pconv3y = Add()([conv3y,pconv3y])\n",
        "    conv3 = Concatenate()([pconv3,pconv3x,pconv3y])\n",
        "    conv3 = Conv2D(11, (1,1), activation = 'sigmoid', padding = 'same', kernel_initializer = 'he_normal')(conv3)\n",
        "    conv3x = Conv2D(2, (1,1), activation = 'sigmoid', padding = 'same')(pconv3x)\n",
        "    conv3y = Conv2D(2, (1,1), activation = 'sigmoid', padding = 'same')(pconv3y)\n",
        "    pconv3 = conv3\n",
        "    pconv3x = conv3x\n",
        "    pconv3y = conv3y\n",
        "    conv3 = Concatenate()([pconv3,pconv3x,pconv3y])\n",
        "\n",
        "    model = Model(input = inputs, output = conv3)\n",
        "\n",
        "    model.compile(optimizer = Adam(lr = 1e-4), loss = custom_mse, metrics = ['mean_absolute_error'])\n",
        "    \n",
        "    model.summary()\n",
        "\n",
        "    return model\n",
        "\n",
        "model = net()"
      ],
      "execution_count": null,
      "outputs": [
        {
          "output_type": "stream",
          "text": [
            "Model: \"model_1\"\n",
            "__________________________________________________________________________________________________\n",
            "Layer (type)                    Output Shape         Param #     Connected to                     \n",
            "==================================================================================================\n",
            "input_1 (InputLayer)            (None, 112, 112, 1)  0                                            \n",
            "__________________________________________________________________________________________________\n",
            "conv2d_1 (Conv2D)               (None, 112, 112, 32) 320         input_1[0][0]                    \n",
            "__________________________________________________________________________________________________\n",
            "conv2d_2 (Conv2D)               (None, 112, 112, 32) 9248        conv2d_1[0][0]                   \n",
            "__________________________________________________________________________________________________\n",
            "conv2d_3 (Conv2D)               (None, 112, 112, 32) 9248        conv2d_2[0][0]                   \n",
            "__________________________________________________________________________________________________\n",
            "max_pooling2d_1 (MaxPooling2D)  (None, 56, 56, 32)   0           conv2d_3[0][0]                   \n",
            "__________________________________________________________________________________________________\n",
            "conv2d_4 (Conv2D)               (None, 56, 56, 64)   18496       max_pooling2d_1[0][0]            \n",
            "__________________________________________________________________________________________________\n",
            "conv2d_5 (Conv2D)               (None, 56, 56, 64)   36928       conv2d_4[0][0]                   \n",
            "__________________________________________________________________________________________________\n",
            "conv2d_6 (Conv2D)               (None, 56, 56, 64)   36928       conv2d_5[0][0]                   \n",
            "__________________________________________________________________________________________________\n",
            "max_pooling2d_2 (MaxPooling2D)  (None, 28, 28, 64)   0           conv2d_6[0][0]                   \n",
            "__________________________________________________________________________________________________\n",
            "conv2d_7 (Conv2D)               (None, 28, 28, 64)   36928       max_pooling2d_2[0][0]            \n",
            "__________________________________________________________________________________________________\n",
            "conv2d_8 (Conv2D)               (None, 28, 28, 32)   18464       max_pooling2d_2[0][0]            \n",
            "__________________________________________________________________________________________________\n",
            "conv2d_9 (Conv2D)               (None, 28, 28, 32)   18464       max_pooling2d_2[0][0]            \n",
            "__________________________________________________________________________________________________\n",
            "conv2d_13 (Conv2D)              (None, 28, 28, 16)   4624        conv2d_8[0][0]                   \n",
            "__________________________________________________________________________________________________\n",
            "conv2d_14 (Conv2D)              (None, 28, 28, 16)   1040        conv2d_7[0][0]                   \n",
            "__________________________________________________________________________________________________\n",
            "conv2d_15 (Conv2D)              (None, 28, 28, 16)   4624        conv2d_9[0][0]                   \n",
            "__________________________________________________________________________________________________\n",
            "conv2d_16 (Conv2D)              (None, 28, 28, 16)   1040        conv2d_7[0][0]                   \n",
            "__________________________________________________________________________________________________\n",
            "conv2d_10 (Conv2D)              (None, 28, 28, 32)   18464       conv2d_7[0][0]                   \n",
            "__________________________________________________________________________________________________\n",
            "conv2d_11 (Conv2D)              (None, 28, 28, 16)   528         conv2d_8[0][0]                   \n",
            "__________________________________________________________________________________________________\n",
            "conv2d_12 (Conv2D)              (None, 28, 28, 16)   528         conv2d_9[0][0]                   \n",
            "__________________________________________________________________________________________________\n",
            "concatenate_2 (Concatenate)     (None, 28, 28, 32)   0           conv2d_13[0][0]                  \n",
            "                                                                 conv2d_14[0][0]                  \n",
            "__________________________________________________________________________________________________\n",
            "concatenate_3 (Concatenate)     (None, 28, 28, 32)   0           conv2d_15[0][0]                  \n",
            "                                                                 conv2d_16[0][0]                  \n",
            "__________________________________________________________________________________________________\n",
            "concatenate_1 (Concatenate)     (None, 28, 28, 64)   0           conv2d_10[0][0]                  \n",
            "                                                                 conv2d_11[0][0]                  \n",
            "                                                                 conv2d_12[0][0]                  \n",
            "__________________________________________________________________________________________________\n",
            "add_1 (Add)                     (None, 28, 28, 32)   0           concatenate_2[0][0]              \n",
            "                                                                 conv2d_8[0][0]                   \n",
            "__________________________________________________________________________________________________\n",
            "add_2 (Add)                     (None, 28, 28, 32)   0           concatenate_3[0][0]              \n",
            "                                                                 conv2d_9[0][0]                   \n",
            "__________________________________________________________________________________________________\n",
            "conv2d_20 (Conv2D)              (None, 28, 28, 16)   4624        add_1[0][0]                      \n",
            "__________________________________________________________________________________________________\n",
            "conv2d_21 (Conv2D)              (None, 28, 28, 16)   1040        concatenate_1[0][0]              \n",
            "__________________________________________________________________________________________________\n",
            "conv2d_22 (Conv2D)              (None, 28, 28, 16)   4624        add_2[0][0]                      \n",
            "__________________________________________________________________________________________________\n",
            "conv2d_23 (Conv2D)              (None, 28, 28, 16)   1040        concatenate_1[0][0]              \n",
            "__________________________________________________________________________________________________\n",
            "conv2d_17 (Conv2D)              (None, 28, 28, 32)   18464       concatenate_1[0][0]              \n",
            "__________________________________________________________________________________________________\n",
            "conv2d_18 (Conv2D)              (None, 28, 28, 16)   528         add_1[0][0]                      \n",
            "__________________________________________________________________________________________________\n",
            "conv2d_19 (Conv2D)              (None, 28, 28, 16)   528         add_2[0][0]                      \n",
            "__________________________________________________________________________________________________\n",
            "concatenate_5 (Concatenate)     (None, 28, 28, 32)   0           conv2d_20[0][0]                  \n",
            "                                                                 conv2d_21[0][0]                  \n",
            "__________________________________________________________________________________________________\n",
            "concatenate_6 (Concatenate)     (None, 28, 28, 32)   0           conv2d_22[0][0]                  \n",
            "                                                                 conv2d_23[0][0]                  \n",
            "__________________________________________________________________________________________________\n",
            "concatenate_4 (Concatenate)     (None, 28, 28, 64)   0           conv2d_17[0][0]                  \n",
            "                                                                 conv2d_18[0][0]                  \n",
            "                                                                 conv2d_19[0][0]                  \n",
            "__________________________________________________________________________________________________\n",
            "add_3 (Add)                     (None, 28, 28, 32)   0           concatenate_5[0][0]              \n",
            "                                                                 add_1[0][0]                      \n",
            "__________________________________________________________________________________________________\n",
            "add_4 (Add)                     (None, 28, 28, 32)   0           concatenate_6[0][0]              \n",
            "                                                                 add_2[0][0]                      \n",
            "__________________________________________________________________________________________________\n",
            "max_pooling2d_3 (MaxPooling2D)  (None, 14, 14, 64)   0           concatenate_4[0][0]              \n",
            "__________________________________________________________________________________________________\n",
            "conv2d_24 (Conv2D)              (None, 14, 14, 64)   8256        add_3[0][0]                      \n",
            "__________________________________________________________________________________________________\n",
            "conv2d_25 (Conv2D)              (None, 14, 14, 64)   8256        add_4[0][0]                      \n",
            "__________________________________________________________________________________________________\n",
            "conv2d_29 (Conv2D)              (None, 14, 14, 32)   18464       conv2d_24[0][0]                  \n",
            "__________________________________________________________________________________________________\n",
            "lambda_1 (Lambda)               (None, 14, 14, 32)   0           max_pooling2d_3[0][0]            \n",
            "__________________________________________________________________________________________________\n",
            "conv2d_30 (Conv2D)              (None, 14, 14, 32)   18464       conv2d_25[0][0]                  \n",
            "__________________________________________________________________________________________________\n",
            "lambda_2 (Lambda)               (None, 14, 14, 32)   0           max_pooling2d_3[0][0]            \n",
            "__________________________________________________________________________________________________\n",
            "conv2d_26 (Conv2D)              (None, 14, 14, 64)   36928       max_pooling2d_3[0][0]            \n",
            "__________________________________________________________________________________________________\n",
            "conv2d_27 (Conv2D)              (None, 14, 14, 32)   2080        conv2d_24[0][0]                  \n",
            "__________________________________________________________________________________________________\n",
            "conv2d_28 (Conv2D)              (None, 14, 14, 32)   2080        conv2d_25[0][0]                  \n",
            "__________________________________________________________________________________________________\n",
            "concatenate_8 (Concatenate)     (None, 14, 14, 64)   0           conv2d_29[0][0]                  \n",
            "                                                                 lambda_1[0][0]                   \n",
            "__________________________________________________________________________________________________\n",
            "concatenate_9 (Concatenate)     (None, 14, 14, 64)   0           conv2d_30[0][0]                  \n",
            "                                                                 lambda_2[0][0]                   \n",
            "__________________________________________________________________________________________________\n",
            "concatenate_7 (Concatenate)     (None, 14, 14, 128)  0           conv2d_26[0][0]                  \n",
            "                                                                 conv2d_27[0][0]                  \n",
            "                                                                 conv2d_28[0][0]                  \n",
            "__________________________________________________________________________________________________\n",
            "add_5 (Add)                     (None, 14, 14, 64)   0           concatenate_8[0][0]              \n",
            "                                                                 conv2d_24[0][0]                  \n",
            "__________________________________________________________________________________________________\n",
            "add_6 (Add)                     (None, 14, 14, 64)   0           concatenate_9[0][0]              \n",
            "                                                                 conv2d_25[0][0]                  \n",
            "__________________________________________________________________________________________________\n",
            "conv2d_34 (Conv2D)              (None, 14, 14, 32)   18464       add_5[0][0]                      \n",
            "__________________________________________________________________________________________________\n",
            "lambda_3 (Lambda)               (None, 14, 14, 32)   0           concatenate_7[0][0]              \n",
            "__________________________________________________________________________________________________\n",
            "conv2d_35 (Conv2D)              (None, 14, 14, 32)   18464       add_6[0][0]                      \n",
            "__________________________________________________________________________________________________\n",
            "lambda_4 (Lambda)               (None, 14, 14, 32)   0           concatenate_7[0][0]              \n",
            "__________________________________________________________________________________________________\n",
            "conv2d_31 (Conv2D)              (None, 14, 14, 64)   73792       concatenate_7[0][0]              \n",
            "__________________________________________________________________________________________________\n",
            "conv2d_32 (Conv2D)              (None, 14, 14, 32)   2080        add_5[0][0]                      \n",
            "__________________________________________________________________________________________________\n",
            "conv2d_33 (Conv2D)              (None, 14, 14, 32)   2080        add_6[0][0]                      \n",
            "__________________________________________________________________________________________________\n",
            "concatenate_11 (Concatenate)    (None, 14, 14, 64)   0           conv2d_34[0][0]                  \n",
            "                                                                 lambda_3[0][0]                   \n",
            "__________________________________________________________________________________________________\n",
            "concatenate_12 (Concatenate)    (None, 14, 14, 64)   0           conv2d_35[0][0]                  \n",
            "                                                                 lambda_4[0][0]                   \n",
            "__________________________________________________________________________________________________\n",
            "concatenate_10 (Concatenate)    (None, 14, 14, 128)  0           conv2d_31[0][0]                  \n",
            "                                                                 conv2d_32[0][0]                  \n",
            "                                                                 conv2d_33[0][0]                  \n",
            "__________________________________________________________________________________________________\n",
            "add_7 (Add)                     (None, 14, 14, 64)   0           concatenate_11[0][0]             \n",
            "                                                                 add_5[0][0]                      \n",
            "__________________________________________________________________________________________________\n",
            "add_8 (Add)                     (None, 14, 14, 64)   0           concatenate_12[0][0]             \n",
            "                                                                 add_6[0][0]                      \n",
            "__________________________________________________________________________________________________\n",
            "concatenate_13 (Concatenate)    (None, 14, 14, 256)  0           concatenate_10[0][0]             \n",
            "                                                                 add_7[0][0]                      \n",
            "                                                                 add_8[0][0]                      \n",
            "__________________________________________________________________________________________________\n",
            "conv2d_36 (Conv2D)              (None, 14, 14, 11)   2827        concatenate_13[0][0]             \n",
            "__________________________________________________________________________________________________\n",
            "conv2d_37 (Conv2D)              (None, 14, 14, 2)    130         add_7[0][0]                      \n",
            "__________________________________________________________________________________________________\n",
            "conv2d_38 (Conv2D)              (None, 14, 14, 2)    130         add_8[0][0]                      \n",
            "__________________________________________________________________________________________________\n",
            "concatenate_14 (Concatenate)    (None, 14, 14, 15)   0           conv2d_36[0][0]                  \n",
            "                                                                 conv2d_37[0][0]                  \n",
            "                                                                 conv2d_38[0][0]                  \n",
            "==================================================================================================\n",
            "Total params: 459,215\n",
            "Trainable params: 459,215\n",
            "Non-trainable params: 0\n",
            "__________________________________________________________________________________________________\n"
          ],
          "name": "stdout"
        },
        {
          "output_type": "stream",
          "text": [
            "/usr/local/lib/python3.6/dist-packages/ipykernel_launcher.py:50: UserWarning: Update your `Model` call to the Keras 2 API: `Model(inputs=Tensor(\"in..., outputs=Tensor(\"co...)`\n"
          ],
          "name": "stderr"
        }
      ]
    },
    {
      "cell_type": "code",
      "metadata": {
        "id": "nM9sn5ON0ajX",
        "colab_type": "code",
        "colab": {}
      },
      "source": [
        "plot_model(model, to_file='model_plot_8.png', show_shapes=True, show_layer_names=True)"
      ],
      "execution_count": null,
      "outputs": []
    },
    {
      "cell_type": "code",
      "metadata": {
        "id": "JjoaP76Gxupb",
        "colab_type": "code",
        "colab": {}
      },
      "source": [
        "model.load_weights(\"modelres82.h5\")"
      ],
      "execution_count": null,
      "outputs": []
    },
    {
      "cell_type": "code",
      "metadata": {
        "id": "MKcl4w-Rm4nL",
        "colab_type": "code",
        "colab": {}
      },
      "source": [
        "logdir = os.path.join(\"logs8\", datetime.datetime.now().strftime(\"%Y%m%d-%H%M%S\"))\n",
        "tensorboard_callback = TensorBoard(logdir, histogram_freq=1)\n"
      ],
      "execution_count": null,
      "outputs": []
    },
    {
      "cell_type": "code",
      "metadata": {
        "id": "wuBQ4_IWnV6Q",
        "colab_type": "code",
        "colab": {}
      },
      "source": [
        "history = History()"
      ],
      "execution_count": null,
      "outputs": []
    },
    {
      "cell_type": "code",
      "metadata": {
        "id": "tPamaEOxcWvV",
        "colab_type": "code",
        "colab": {}
      },
      "source": [
        "sets = 10000\n",
        "for i in range(1):\n",
        "  x_test = np.zeros([sets,X_test.shape[1]*4,X_test.shape[2]*4])\n",
        "  y_test = np.zeros([sets,14,14,15])\n",
        "  y_test[:,:,:,0:10] = 0.1\n",
        "  y_test[:,:,:,10] = 0.1\n",
        "  for j in range(sets):\n",
        "    nm = np.random.randint(1,5)\n",
        "    for k in range(nm):\n",
        "      ii = np.random.randint(0,X_test.shape[0])\n",
        "      sf = np.random.randint(28*0.5,28*2)\n",
        "      rimg = cv2.resize(X_test[ii],(sf,sf),cv2.INTER_LINEAR)\n",
        "      sa = np.random.randint(0,(x_test.shape[1]-sf))\n",
        "      sb = np.random.randint(0,(x_test.shape[2]-sf))\n",
        "      x_test[j, sa:sa+sf , sb:sb+sf] += rimg\n",
        "      temp = np.zeros(rimg.shape)\n",
        "      temp[rimg>100] = 1\n",
        "      tempx = np.sum(temp,axis=1)\n",
        "      tempx[tempx>1]=1\n",
        "      a1 = np.argmax(tempx)\n",
        "      a2 = sf - np.argmax(tempx[::-1]) -1\n",
        "      tempx = np.sum(temp,axis=0)\n",
        "      tempx[tempx>1]=1\n",
        "      b1 = np.argmax(tempx)\n",
        "      b2 = sf - np.argmax(tempx[::-1]) -1\n",
        "      ai  = (int)((sa+sa+a1+a2)*(7/x_test.shape[1]))\n",
        "      bi = (int)((sb+sb+b1+b2)*(7/x_test.shape[2]))\n",
        "      y_test[j][ai][bi][10] = 1\n",
        "      y_test[j][ai][bi][Y_test[ii]] = 1\n",
        "      y_test[j][ai][bi][11] = ((sa+sa+a1+a2)*(7/x_test.shape[1])) - ai\n",
        "      y_test[j][ai][bi][13] = ((sb+sb+b1+b2)*(7/x_test.shape[2])) - bi\n",
        "      y_test[j][ai][bi][12] = (a2-a1)/(28*2)\n",
        "      y_test[j][ai][bi][14] = (b2-b1)/(28*2)\n",
        "  np.clip(x_test,0,255)\n",
        "  x_test = x_test[:,:,:,np.newaxis]\n",
        "  x_test = x_test.astype('float32')\n",
        "  x_test/=255"
      ],
      "execution_count": null,
      "outputs": []
    },
    {
      "cell_type": "code",
      "metadata": {
        "id": "4pSI43zZW0rE",
        "colab_type": "code",
        "colab": {}
      },
      "source": [
        "model.compile(optimizer = Adam(lr = 1e-6), loss = custom_mse, metrics = ['mean_absolute_error'])"
      ],
      "execution_count": null,
      "outputs": []
    },
    {
      "cell_type": "code",
      "metadata": {
        "id": "sDOcwO4rUwoU",
        "colab_type": "code",
        "colab": {
          "base_uri": "https://localhost:8080/",
          "height": 500
        },
        "outputId": "78c7361e-bdf1-4a09-d829-c4518ccde7eb"
      },
      "source": [
        "minv = 1000.01\n",
        "sets = 30000\n",
        "for i in range(5):\n",
        "  x_train = np.zeros([sets,X_train.shape[1]*4,X_train.shape[2]*4])\n",
        "  y_train = np.zeros([sets,14,14,15])\n",
        "  y_train[:,:,:,0:10] = 0.1\n",
        "  y_train[:,:,:,10] = 0.1\n",
        "  for j in range(sets):\n",
        "    nm = np.random.randint(1,5)\n",
        "    for k in range(nm):\n",
        "      ii = np.random.randint(0,X_train.shape[0])\n",
        "      sf = np.random.randint(28*0.5,28*2)\n",
        "      rimg = cv2.resize(X_train[ii],(sf,sf),cv2.INTER_LINEAR)\n",
        "      sa = np.random.randint(0,(x_train.shape[1]-sf))\n",
        "      sb = np.random.randint(0,(x_train.shape[2]-sf))\n",
        "      x_train[j, sa:sa+sf , sb:sb+sf] += rimg\n",
        "      temp = np.zeros(rimg.shape)\n",
        "      temp[rimg>100] = 1\n",
        "      tempx = np.sum(temp,axis=1)\n",
        "      tempx[tempx>1]=1\n",
        "      a1 = np.argmax(tempx)\n",
        "      a2 = sf - np.argmax(tempx[::-1]) -1\n",
        "      tempx = np.sum(temp,axis=0)\n",
        "      tempx[tempx>1]=1\n",
        "      b1 = np.argmax(tempx)\n",
        "      b2 = sf - np.argmax(tempx[::-1]) -1\n",
        "      ai  = (int)((sa+sa+a1+a2)*(7/x_train.shape[1]))\n",
        "      bi = (int)((sb+sb+b1+b2)*(7/x_train.shape[2]))\n",
        "      y_train[j][ai][bi][10] = 1\n",
        "      y_train[j][ai][bi][Y_train[ii]] = 1\n",
        "      y_train[j][ai][bi][11] = ((sa+sa+a1+a2)*(7/x_train.shape[1])) - ai\n",
        "      y_train[j][ai][bi][13] = ((sb+sb+b1+b2)*(7/x_train.shape[2])) - bi\n",
        "      y_train[j][ai][bi][12] = (a2-a1)/(28*2)\n",
        "      y_train[j][ai][bi][14] = (b2-b1)/(28*2)\n",
        "  np.clip(x_train,0,255)\n",
        "  x_train = x_train[:,:,:,np.newaxis]\n",
        "  x_train = x_train.astype('float32')\n",
        "  x_train/=255\n",
        "  #model.fit(x_train, y_train, batch_size=128, nb_epoch=1, callbacks=[tensorboard_callback], validation_data=(x_test,y_test))\n",
        "  his = model.fit(x_train, y_train, batch_size=128, nb_epoch=1, callbacks=[history,tensorboard_callback], validation_data=(x_test,y_test))\n",
        "  #model.fit(x_train, y_train, batch_size=32, nb_epoch=1)\n",
        "  #model.save_weights(\"modelff70.h5\")\n",
        "  print(i)\n",
        "  if(his.history['val_loss'][0]<minv):\n",
        "    minv = his.history['val_loss'][0]\n",
        "    model.save_weights(\"modelres82.h5\")"
      ],
      "execution_count": null,
      "outputs": [
        {
          "output_type": "stream",
          "text": [
            "/usr/local/lib/python3.6/dist-packages/ipykernel_launcher.py:40: UserWarning: The `nb_epoch` argument in `fit` has been renamed `epochs`.\n"
          ],
          "name": "stderr"
        },
        {
          "output_type": "stream",
          "text": [
            "Train on 30000 samples, validate on 5000 samples\n",
            "Epoch 1/1\n",
            "30000/30000 [==============================] - 154s 5ms/step - loss: 27.3679 - mean_absolute_error: 0.0018 - val_loss: 28.0330 - val_mean_absolute_error: 0.0017\n",
            "0\n",
            "Train on 30000 samples, validate on 5000 samples\n",
            "Epoch 1/1\n",
            "30000/30000 [==============================] - 151s 5ms/step - loss: 26.9015 - mean_absolute_error: 0.0017 - val_loss: 27.9949 - val_mean_absolute_error: 0.0017\n",
            "1\n",
            "Train on 30000 samples, validate on 5000 samples\n",
            "Epoch 1/1\n",
            "30000/30000 [==============================] - 151s 5ms/step - loss: 26.0661 - mean_absolute_error: 0.0017 - val_loss: 28.0240 - val_mean_absolute_error: 0.0017\n",
            "2\n",
            "Train on 30000 samples, validate on 5000 samples\n",
            "Epoch 1/1\n",
            "30000/30000 [==============================] - 151s 5ms/step - loss: 26.4233 - mean_absolute_error: 0.0017 - val_loss: 28.0394 - val_mean_absolute_error: 0.0017\n",
            "3\n"
          ],
          "name": "stdout"
        },
        {
          "output_type": "error",
          "ename": "KeyboardInterrupt",
          "evalue": "ignored",
          "traceback": [
            "\u001b[0;31m---------------------------------------------------------------------------\u001b[0m",
            "\u001b[0;31mKeyboardInterrupt\u001b[0m                         Traceback (most recent call last)",
            "\u001b[0;32m<ipython-input-21-9e164cf9c401>\u001b[0m in \u001b[0;36m<module>\u001b[0;34m()\u001b[0m\n\u001b[1;32m     11\u001b[0m       \u001b[0mii\u001b[0m \u001b[0;34m=\u001b[0m \u001b[0mnp\u001b[0m\u001b[0;34m.\u001b[0m\u001b[0mrandom\u001b[0m\u001b[0;34m.\u001b[0m\u001b[0mrandint\u001b[0m\u001b[0;34m(\u001b[0m\u001b[0;36m0\u001b[0m\u001b[0;34m,\u001b[0m\u001b[0mX_train\u001b[0m\u001b[0;34m.\u001b[0m\u001b[0mshape\u001b[0m\u001b[0;34m[\u001b[0m\u001b[0;36m0\u001b[0m\u001b[0;34m]\u001b[0m\u001b[0;34m)\u001b[0m\u001b[0;34m\u001b[0m\u001b[0;34m\u001b[0m\u001b[0m\n\u001b[1;32m     12\u001b[0m       \u001b[0msf\u001b[0m \u001b[0;34m=\u001b[0m \u001b[0mnp\u001b[0m\u001b[0;34m.\u001b[0m\u001b[0mrandom\u001b[0m\u001b[0;34m.\u001b[0m\u001b[0mrandint\u001b[0m\u001b[0;34m(\u001b[0m\u001b[0;36m28\u001b[0m\u001b[0;34m*\u001b[0m\u001b[0;36m0.5\u001b[0m\u001b[0;34m,\u001b[0m\u001b[0;36m28\u001b[0m\u001b[0;34m*\u001b[0m\u001b[0;36m2\u001b[0m\u001b[0;34m)\u001b[0m\u001b[0;34m\u001b[0m\u001b[0;34m\u001b[0m\u001b[0m\n\u001b[0;32m---> 13\u001b[0;31m       \u001b[0mrimg\u001b[0m \u001b[0;34m=\u001b[0m \u001b[0mcv2\u001b[0m\u001b[0;34m.\u001b[0m\u001b[0mresize\u001b[0m\u001b[0;34m(\u001b[0m\u001b[0mX_train\u001b[0m\u001b[0;34m[\u001b[0m\u001b[0mii\u001b[0m\u001b[0;34m]\u001b[0m\u001b[0;34m,\u001b[0m\u001b[0;34m(\u001b[0m\u001b[0msf\u001b[0m\u001b[0;34m,\u001b[0m\u001b[0msf\u001b[0m\u001b[0;34m)\u001b[0m\u001b[0;34m,\u001b[0m\u001b[0mcv2\u001b[0m\u001b[0;34m.\u001b[0m\u001b[0mINTER_LINEAR\u001b[0m\u001b[0;34m)\u001b[0m\u001b[0;34m\u001b[0m\u001b[0;34m\u001b[0m\u001b[0m\n\u001b[0m\u001b[1;32m     14\u001b[0m       \u001b[0msa\u001b[0m \u001b[0;34m=\u001b[0m \u001b[0mnp\u001b[0m\u001b[0;34m.\u001b[0m\u001b[0mrandom\u001b[0m\u001b[0;34m.\u001b[0m\u001b[0mrandint\u001b[0m\u001b[0;34m(\u001b[0m\u001b[0;36m0\u001b[0m\u001b[0;34m,\u001b[0m\u001b[0;34m(\u001b[0m\u001b[0mx_train\u001b[0m\u001b[0;34m.\u001b[0m\u001b[0mshape\u001b[0m\u001b[0;34m[\u001b[0m\u001b[0;36m1\u001b[0m\u001b[0;34m]\u001b[0m\u001b[0;34m-\u001b[0m\u001b[0msf\u001b[0m\u001b[0;34m)\u001b[0m\u001b[0;34m)\u001b[0m\u001b[0;34m\u001b[0m\u001b[0;34m\u001b[0m\u001b[0m\n\u001b[1;32m     15\u001b[0m       \u001b[0msb\u001b[0m \u001b[0;34m=\u001b[0m \u001b[0mnp\u001b[0m\u001b[0;34m.\u001b[0m\u001b[0mrandom\u001b[0m\u001b[0;34m.\u001b[0m\u001b[0mrandint\u001b[0m\u001b[0;34m(\u001b[0m\u001b[0;36m0\u001b[0m\u001b[0;34m,\u001b[0m\u001b[0;34m(\u001b[0m\u001b[0mx_train\u001b[0m\u001b[0;34m.\u001b[0m\u001b[0mshape\u001b[0m\u001b[0;34m[\u001b[0m\u001b[0;36m2\u001b[0m\u001b[0;34m]\u001b[0m\u001b[0;34m-\u001b[0m\u001b[0msf\u001b[0m\u001b[0;34m)\u001b[0m\u001b[0;34m)\u001b[0m\u001b[0;34m\u001b[0m\u001b[0;34m\u001b[0m\u001b[0m\n",
            "\u001b[0;31mKeyboardInterrupt\u001b[0m: "
          ]
        }
      ]
    },
    {
      "cell_type": "code",
      "metadata": {
        "id": "R4J6RBkZt5sO",
        "colab_type": "code",
        "colab": {}
      },
      "source": [
        "%tensorboard --logdir logs5"
      ],
      "execution_count": null,
      "outputs": []
    },
    {
      "cell_type": "code",
      "metadata": {
        "id": "zea7XmNKciNY",
        "colab_type": "code",
        "colab": {}
      },
      "source": [
        "model.save_weights(\"model21.h5\")"
      ],
      "execution_count": null,
      "outputs": []
    },
    {
      "cell_type": "code",
      "metadata": {
        "id": "VZ8p35sNdz4a",
        "colab_type": "code",
        "colab": {}
      },
      "source": [
        "pred = model.predict(x_test)"
      ],
      "execution_count": null,
      "outputs": []
    },
    {
      "cell_type": "code",
      "metadata": {
        "id": "fUYKnejiulA7",
        "colab_type": "code",
        "colab": {
          "base_uri": "https://localhost:8080/",
          "height": 267
        },
        "outputId": "3b20a3d9-472c-4456-ff89-32daed762258"
      },
      "source": [
        "\n",
        "idd = 13\n",
        "res  = pred[idd]\n",
        "resimg = x_test[idd,:,:,0]\n",
        "plt.imshow(resimg)\n",
        "ax = plt.gca()\n",
        "for rxi in range(res.shape[0]):\n",
        "  for ryi in range(res.shape[1]):\n",
        "    if(res[rxi, ryi, 10]>0.5):\n",
        "      hit = res[rxi, ryi, 12]*(28*2)\n",
        "      wid = res[rxi, ryi, 14]*(28*2)\n",
        "      ycc = (rxi+res[rxi, ryi, 11])*(x_test.shape[1]/14)\n",
        "      xcc = (ryi+res[rxi, ryi, 13])*(x_test.shape[2]/14)\n",
        "      rect = Rectangle((xcc-(wid/2),ycc-(hit/2)),wid,hit,linewidth=1,edgecolor='r',facecolor='none')\n",
        "      ax.add_patch(rect)\n",
        "plt.show()"
      ],
      "execution_count": null,
      "outputs": [
        {
          "output_type": "display_data",
          "data": {
            "image/png": "[encoded data removed]",
            "text/plain": [
              "<Figure size 432x288 with 1 Axes>"
            ]
          },
          "metadata": {
            "tags": [],
            "needs_background": "light"
          }
        }
      ]
    },
    {
      "cell_type": "code",
      "metadata": {
        "id": "7Hj67lK00w4C",
        "colab_type": "code",
        "colab": {}
      },
      "source": [
        "def bboxes_iou(boxes1, boxes2):\n",
        "\n",
        "    boxes1 = np.array(boxes1)\n",
        "    boxes2 = np.array(boxes2)\n",
        "\n",
        "    boxes1_area = (boxes1[..., 2] - boxes1[..., 0]) * (boxes1[..., 3] - boxes1[..., 1])\n",
        "    boxes2_area = (boxes2[..., 2] - boxes2[..., 0]) * (boxes2[..., 3] - boxes2[..., 1])\n",
        "\n",
        "    left_up       = np.maximum(boxes1[..., :2], boxes2[..., :2])\n",
        "    right_down    = np.minimum(boxes1[..., 2:], boxes2[..., 2:])\n",
        "\n",
        "    inter_section = np.maximum(right_down - left_up, 0.0)\n",
        "    inter_area    = inter_section[..., 0] * inter_section[..., 1]\n",
        "    union_area    = boxes1_area + boxes2_area - inter_area\n",
        "    ious          = np.maximum(1.0 * inter_area / union_area, np.finfo(np.float32).eps)\n",
        "\n",
        "    return ious\n",
        "\n",
        "  \n",
        "def nms(bboxes, iou_threshold, sigma=0.3, method='nms'):\n",
        "    \"\"\"\n",
        "    :param bboxes: (xmin, ymin, xmax, ymax, score, class)\n",
        "\n",
        "    \"\"\"\n",
        "    bboxes = np.array(bboxes)\n",
        "    classes_in_img = list(set(bboxes[:, 5]))\n",
        "    best_bboxes = []\n",
        "\n",
        "    for cls in classes_in_img:\n",
        "        cls_mask = (bboxes[:, 5] == cls)\n",
        "        cls_bboxes = bboxes[cls_mask]\n",
        "\n",
        "        while len(cls_bboxes) > 0:\n",
        "            max_ind = np.argmax(cls_bboxes[:, 4])\n",
        "            best_bbox = cls_bboxes[max_ind]\n",
        "            best_bboxes.append(best_bbox)\n",
        "            cls_bboxes = np.concatenate([cls_bboxes[: max_ind], cls_bboxes[max_ind + 1:]])\n",
        "            iou = bboxes_iou(best_bbox[np.newaxis, :4], cls_bboxes[:, :4])\n",
        "            weight = np.ones((len(iou),), dtype=np.float32)\n",
        "\n",
        "            assert method in ['nms', 'soft-nms']\n",
        "\n",
        "            if method == 'nms':\n",
        "                iou_mask = iou > iou_threshold\n",
        "                weight[iou_mask] = 0.0\n",
        "\n",
        "            if method == 'soft-nms':\n",
        "                weight = np.exp(-(1.0 * iou ** 2 / sigma))\n",
        "\n",
        "            cls_bboxes[:, 4] = cls_bboxes[:, 4] * weight\n",
        "            score_mask = cls_bboxes[:, 4] > 0.\n",
        "            cls_bboxes = cls_bboxes[score_mask]\n",
        "\n",
        "    return best_bboxes"
      ],
      "execution_count": null,
      "outputs": []
    },
    {
      "cell_type": "code",
      "metadata": {
        "id": "BrTrxYYlz3um",
        "colab_type": "code",
        "colab": {
          "base_uri": "https://localhost:8080/",
          "height": 33
        },
        "outputId": "d3f6157b-8a95-49ba-c632-a737851c7871"
      },
      "source": [
        "allBoundingBoxes = BoundingBoxes()\n",
        "evaluator = Evaluator()\n",
        "for i in range(y_test.shape[0]):\n",
        "  res  = pred[i]\n",
        "  boxes = []\n",
        "  for rxi in range(res.shape[0]):\n",
        "    for ryi in range(res.shape[1]):\n",
        "      if(res[rxi, ryi, 10]>0.5):\n",
        "        hit = res[rxi, ryi, 12]*(28*2)\n",
        "        wid = res[rxi, ryi, 14]*(28*2)\n",
        "        ycc = (rxi+res[rxi, ryi, 11])*(x_test.shape[1]/14)\n",
        "        xcc = (ryi+res[rxi, ryi, 13])*(x_test.shape[2]/14)\n",
        "        classn = np.argmax(res[rxi, ryi, 0:10])\n",
        "        boxes.append([xcc-(wid/2),ycc-(hit/2),xcc+(wid/2),ycc+(hit/2),res[rxi, ryi, 10],classn])\n",
        "  boxes = nms(boxes, 0.75)\n",
        "  for box in boxes:\n",
        "      bb = BoundingBox(imageName=str(i), classId=str(int(box[5])), classConfidence=box[4],\n",
        "                       x=box[0], y=box[1], w=box[2], h=box[3], typeCoordinates=CoordinatesType.Absolute,\n",
        "                       bbType=BBType.Detected, format=BBFormat.XYX2Y2, imgSize=(28*4,28*4))\n",
        "      allBoundingBoxes.addBoundingBox(bb)\n",
        "  res  = y_test[i]\n",
        "  bboxes = []\n",
        "  for rxi in range(res.shape[0]):\n",
        "    for ryi in range(res.shape[1]):\n",
        "      if(res[rxi, ryi, 10]>0.5):\n",
        "        hit = res[rxi, ryi, 12]*(28*2)\n",
        "        wid = res[rxi, ryi, 14]*(28*2)\n",
        "\n",
        "        ycc = (rxi+res[rxi, ryi, 11])*(x_test.shape[1]/14)\n",
        "        xcc = (ryi+res[rxi, ryi, 13])*(x_test.shape[2]/14)\n",
        "        classn = np.argmax(res[rxi, ryi, 0:10])\n",
        "        bboxes.append([xcc-(wid/2),ycc-(hit/2),xcc+(wid/2),ycc+(hit/2),res[rxi, ryi, 10],classn])\n",
        "  for box in bboxes:\n",
        "      bb = BoundingBox(imageName=str(i), classId=str(int(box[5])), \n",
        "                       x=box[0], y=box[1], w=box[2], h=box[3], typeCoordinates=CoordinatesType.Absolute,\n",
        "                       bbType=BBType.GroundTruth, format=BBFormat.XYX2Y2, imgSize=(28*4,28*4))\n",
        "      allBoundingBoxes.addBoundingBox(bb)\n",
        "summ = 0\n",
        "for cval in range(10):\n",
        "  metricsPerClass = evaluator.GetPascalVOCMetrics(allBoundingBoxes, IOUThreshold=(0.5 + (cval*0.05)))\n",
        "  for ic in range(10):\n",
        "    summ+=metricsPerClass[ic]['AP']\n",
        "summ /= 100\n",
        "print(summ)"
      ],
      "execution_count": null,
      "outputs": [
        {
          "output_type": "stream",
          "text": [
            "0.7349927380276996\n"
          ],
          "name": "stdout"
        }
      ]
    },
    {
      "cell_type": "markdown",
      "metadata": {
        "id": "bA_nnozqgZFe",
        "colab_type": "text"
      },
      "source": [
        "\n",
        "standard   \n",
        "0.7562680444280496__ 0.08742110313501476__ 0.09628579563651604   \n",
        "0.7565964236051111__ 0.08624292224147725__ 0.09448569565777878 big      \n",
        "0.7268383121938284__ 0.08622878669204864__ 0.09655459852328223 small             \n",
        "0.7890260864605857__ 0.09015215266704328__ 0.09693236794441021 medium"
      ]
    },
    {
      "cell_type": "markdown",
      "metadata": {
        "id": "1uC_wRi-eTxZ",
        "colab_type": "text"
      },
      "source": [
        "My Network               \n",
        "0.7707191624848125__0.08818102489633482__0.09573180963509968                     \n",
        "0.7496481088994155__0.08465250122271523__0.09382762556050947   big                  \n",
        "0.7564469307038111__0.08838250910889228__0.09644121557447721 small       \n",
        "0.8036886244047231__0.09054609472098427__0.09671366155364866 medium\n"
      ]
    }
  ]
}